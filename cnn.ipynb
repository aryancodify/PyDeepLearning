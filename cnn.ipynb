{
 "cells": [
  {
   "cell_type": "code",
   "execution_count": 1,
   "metadata": {},
   "outputs": [],
   "source": [
    "import torch\n",
    "import torch.cuda as cuda\n",
    "import torch.nn as nn\n",
    "import matplotlib.pyplot as plt\n",
    "from torch.autograd import Variable\n",
    "from torchvision import datasets\n",
    "from torchvision import transforms\n",
    "import torch.nn.functional as F"
   ]
  },
  {
   "cell_type": "code",
   "execution_count": 2,
   "metadata": {},
   "outputs": [],
   "source": [
    "#creating the dataloaders"
   ]
  },
  {
   "cell_type": "code",
   "execution_count": 3,
   "metadata": {},
   "outputs": [],
   "source": [
    "# Mean and std dev of the grayscale channel in the MNIST dataset\n",
    "mean_gray = 0.1307\n",
    "stddev_gray = 0.3081\n",
    "\n",
    "transform = transforms.Compose([transforms.ToTensor(), transforms.Normalize((mean_gray,),(stddev_gray,))])\n",
    "mnist_train = datasets.MNIST('./data', train = True, download = True, transform = transform)\n",
    "mnist_valid = datasets.MNIST('./data', train = False, download = True, transform = transform)"
   ]
  },
  {
   "cell_type": "code",
   "execution_count": 4,
   "metadata": {},
   "outputs": [],
   "source": [
    "# visualize one of the images\n",
    "mean_gray = 0.1307\n",
    "stddev_gray = 0.3081\n",
    "# convert from standardised form to default one to visualise\n",
    "img = mnist_train[12][0].numpy() * stddev_gray + mean_gray"
   ]
  },
  {
   "cell_type": "code",
   "execution_count": 5,
   "metadata": {},
   "outputs": [
    {
     "data": {
      "text/plain": [
       "<matplotlib.image.AxesImage at 0x7f705e9081d0>"
      ]
     },
     "execution_count": 5,
     "metadata": {},
     "output_type": "execute_result"
    },
    {
     "data": {
      "image/png": "[encoded data removed]",
      "text/plain": [
       "<Figure size 432x288 with 1 Axes>"
      ]
     },
     "metadata": {},
     "output_type": "display_data"
    }
   ],
   "source": [
    "plt.imshow(img.reshape(28,28), cmap='gray')"
   ]
  },
  {
   "cell_type": "code",
   "execution_count": 6,
   "metadata": {},
   "outputs": [
    {
     "data": {
      "text/plain": [
       "3"
      ]
     },
     "execution_count": 6,
     "metadata": {},
     "output_type": "execute_result"
    }
   ],
   "source": [
    "# Check the lablel\n",
    "mnist_train[12][1]"
   ]
  },
  {
   "cell_type": "code",
   "execution_count": 7,
   "metadata": {},
   "outputs": [],
   "source": [
    "# Creating the data loaders to feed this into the nwtwork\n",
    "batch_size = 1024\n",
    "mnist_train_loader = torch.utils.data.DataLoader(dataset = mnist_train, batch_size=batch_size, shuffle=True, num_workers=1)\n",
    "mnist_valid_loader = torch.utils.data.DataLoader(dataset = mnist_valid, batch_size=batch_size, shuffle=True, num_workers=1)"
   ]
  },
  {
   "cell_type": "code",
   "execution_count": 8,
   "metadata": {},
   "outputs": [],
   "source": [
    "# Create the CNN model\n",
    "class MNISTNet(nn.Module):\n",
    "    \n",
    "    def __init__(self):\n",
    "        super().__init__()\n",
    "        # We use default padding of 0 and stride of 1\n",
    "        \n",
    "        # Conv layer 1 #28 x 28 x 1\n",
    "        self.conv1 = nn.Conv2d(1, 20, kernel_size = 5) #24 x 24 x 20\n",
    "        # non linearity\n",
    "        self.relu1 = nn.ReLU() # same as above\n",
    "        \n",
    "        # Conv layer 2\n",
    "        self.conv2 = nn.Conv2d(20, 30, kernel_size = 5) # 20 X 20 x 30\n",
    "        self.conv2_drop = nn.Dropout2d(p=0.5) # same as above\n",
    "        self.maxpool2 = nn.MaxPool2d(2) # 10 x 10 x 30\n",
    "        self.relu2 = nn.ReLU() # same as above\n",
    "        \n",
    "        # Fully Connected Layers\n",
    "        self.fc1 = nn.Linear(3000, 500)\n",
    "        self.fc2 = nn.Linear(500, 10)\n",
    "    \n",
    "    def forward(self, x):\n",
    "        \n",
    "        # Conv layer 1\n",
    "        x = self.conv1(x)\n",
    "        x = self.relu1(x)\n",
    "        \n",
    "        # Conv layer 2\n",
    "        x = self.conv2(x)\n",
    "        x = self.conv2_drop(x)\n",
    "        x = self.maxpool2(x)\n",
    "        x = self.relu2(x)\n",
    "        \n",
    "        # Switch the view from grid representation to vector representation\n",
    "        x = x.view(-1, 3000)\n",
    "        \n",
    "        # FC Layer 1\n",
    "        x = self.fc1(x)\n",
    "        x = F.relu(x) # functional relu\n",
    "        x = F.dropout(x, training = True) # Because there are a lot of neurons in fc layer\n",
    "        \n",
    "        #FC layer 2\n",
    "        x = self.fc2(x)\n",
    "        \n",
    "        return x"
   ]
  },
  {
   "cell_type": "code",
   "execution_count": 9,
   "metadata": {},
   "outputs": [],
   "source": [
    "# Initialize the model\n",
    "net = MNISTNet()\n",
    "\n",
    "if cuda.is_available():\n",
    "    net = net.cuda()\n",
    "\n",
    "# Loss Function\n",
    "criterion = nn.CrossEntropyLoss()\n",
    "\n",
    "# optimiser\n",
    "learning_rate = 0.01\n",
    "optimizer = torch.optim.SGD(net.parameters(), lr = learning_rate, momentum = 0.9)"
   ]
  },
  {
   "cell_type": "code",
   "execution_count": 10,
   "metadata": {},
   "outputs": [
    {
     "name": "stdout",
     "output_type": "stream",
     "text": [
      "Epoch 1/100, Tr Loss: 1.1554, Tr Acc: 0.6292, Val Loss: 0.3485, Val Acc: 89.2900\n",
      "Epoch 2/100, Tr Loss: 0.3428, Tr Acc: 0.8986, Val Loss: 0.2244, Val Acc: 93.2000\n",
      "Epoch 3/100, Tr Loss: 0.2484, Tr Acc: 0.9266, Val Loss: 0.1661, Val Acc: 95.0800\n",
      "Epoch 4/100, Tr Loss: 0.1994, Tr Acc: 0.9405, Val Loss: 0.1376, Val Acc: 95.9900\n",
      "Epoch 5/100, Tr Loss: 0.1697, Tr Acc: 0.9504, Val Loss: 0.1205, Val Acc: 96.2700\n",
      "Epoch 6/100, Tr Loss: 0.1496, Tr Acc: 0.9550, Val Loss: 0.1035, Val Acc: 96.7100\n",
      "Epoch 7/100, Tr Loss: 0.1341, Tr Acc: 0.9600, Val Loss: 0.0943, Val Acc: 96.9700\n",
      "Epoch 8/100, Tr Loss: 0.1220, Tr Acc: 0.9638, Val Loss: 0.0883, Val Acc: 97.2500\n",
      "Epoch 9/100, Tr Loss: 0.1130, Tr Acc: 0.9661, Val Loss: 0.0796, Val Acc: 97.3800\n",
      "Epoch 10/100, Tr Loss: 0.1016, Tr Acc: 0.9695, Val Loss: 0.0738, Val Acc: 97.7100\n",
      "Epoch 11/100, Tr Loss: 0.0962, Tr Acc: 0.9701, Val Loss: 0.0685, Val Acc: 97.8800\n",
      "Epoch 12/100, Tr Loss: 0.0904, Tr Acc: 0.9731, Val Loss: 0.0675, Val Acc: 97.8400\n",
      "Epoch 13/100, Tr Loss: 0.0861, Tr Acc: 0.9741, Val Loss: 0.0654, Val Acc: 97.9500\n",
      "Epoch 14/100, Tr Loss: 0.0804, Tr Acc: 0.9758, Val Loss: 0.0609, Val Acc: 98.1100\n",
      "Epoch 15/100, Tr Loss: 0.0792, Tr Acc: 0.9758, Val Loss: 0.0588, Val Acc: 98.1700\n",
      "Epoch 16/100, Tr Loss: 0.0741, Tr Acc: 0.9776, Val Loss: 0.0582, Val Acc: 98.1700\n",
      "Epoch 17/100, Tr Loss: 0.0720, Tr Acc: 0.9782, Val Loss: 0.0530, Val Acc: 98.3500\n",
      "Epoch 18/100, Tr Loss: 0.0678, Tr Acc: 0.9791, Val Loss: 0.0547, Val Acc: 98.3200\n",
      "Epoch 19/100, Tr Loss: 0.0646, Tr Acc: 0.9799, Val Loss: 0.0511, Val Acc: 98.3000\n",
      "Epoch 20/100, Tr Loss: 0.0621, Tr Acc: 0.9814, Val Loss: 0.0498, Val Acc: 98.3700\n",
      "Epoch 21/100, Tr Loss: 0.0624, Tr Acc: 0.9809, Val Loss: 0.0509, Val Acc: 98.3700\n",
      "Epoch 22/100, Tr Loss: 0.0581, Tr Acc: 0.9824, Val Loss: 0.0462, Val Acc: 98.6500\n",
      "Epoch 23/100, Tr Loss: 0.0547, Tr Acc: 0.9826, Val Loss: 0.0460, Val Acc: 98.4400\n",
      "Epoch 24/100, Tr Loss: 0.0554, Tr Acc: 0.9827, Val Loss: 0.0457, Val Acc: 98.6300\n",
      "Epoch 25/100, Tr Loss: 0.0525, Tr Acc: 0.9839, Val Loss: 0.0469, Val Acc: 98.5300\n",
      "Epoch 26/100, Tr Loss: 0.0516, Tr Acc: 0.9839, Val Loss: 0.0435, Val Acc: 98.5200\n",
      "Epoch 27/100, Tr Loss: 0.0492, Tr Acc: 0.9847, Val Loss: 0.0413, Val Acc: 98.6100\n",
      "Epoch 28/100, Tr Loss: 0.0492, Tr Acc: 0.9846, Val Loss: 0.0406, Val Acc: 98.7800\n",
      "Epoch 29/100, Tr Loss: 0.0487, Tr Acc: 0.9852, Val Loss: 0.0405, Val Acc: 98.6500\n",
      "Epoch 30/100, Tr Loss: 0.0457, Tr Acc: 0.9857, Val Loss: 0.0398, Val Acc: 98.7700\n",
      "Epoch 31/100, Tr Loss: 0.0458, Tr Acc: 0.9861, Val Loss: 0.0366, Val Acc: 98.8900\n",
      "Epoch 32/100, Tr Loss: 0.0452, Tr Acc: 0.9865, Val Loss: 0.0415, Val Acc: 98.7500\n",
      "Epoch 33/100, Tr Loss: 0.0437, Tr Acc: 0.9866, Val Loss: 0.0417, Val Acc: 98.7200\n",
      "Epoch 34/100, Tr Loss: 0.0421, Tr Acc: 0.9868, Val Loss: 0.0360, Val Acc: 98.8600\n",
      "Epoch 35/100, Tr Loss: 0.0418, Tr Acc: 0.9868, Val Loss: 0.0395, Val Acc: 98.7200\n",
      "Epoch 36/100, Tr Loss: 0.0405, Tr Acc: 0.9877, Val Loss: 0.0368, Val Acc: 98.8900\n",
      "Epoch 37/100, Tr Loss: 0.0382, Tr Acc: 0.9883, Val Loss: 0.0387, Val Acc: 98.6700\n",
      "Epoch 38/100, Tr Loss: 0.0377, Tr Acc: 0.9879, Val Loss: 0.0383, Val Acc: 98.6800\n",
      "Epoch 39/100, Tr Loss: 0.0375, Tr Acc: 0.9880, Val Loss: 0.0413, Val Acc: 98.6700\n",
      "Epoch 40/100, Tr Loss: 0.0379, Tr Acc: 0.9882, Val Loss: 0.0371, Val Acc: 98.7800\n",
      "Epoch 41/100, Tr Loss: 0.0371, Tr Acc: 0.9883, Val Loss: 0.0386, Val Acc: 98.8100\n",
      "Epoch 42/100, Tr Loss: 0.0344, Tr Acc: 0.9893, Val Loss: 0.0340, Val Acc: 98.8800\n",
      "Epoch 43/100, Tr Loss: 0.0354, Tr Acc: 0.9891, Val Loss: 0.0351, Val Acc: 98.8600\n",
      "Epoch 44/100, Tr Loss: 0.0347, Tr Acc: 0.9890, Val Loss: 0.0362, Val Acc: 98.9200\n",
      "Epoch 45/100, Tr Loss: 0.0324, Tr Acc: 0.9900, Val Loss: 0.0336, Val Acc: 98.9200\n",
      "Epoch 46/100, Tr Loss: 0.0350, Tr Acc: 0.9889, Val Loss: 0.0341, Val Acc: 98.9700\n",
      "Epoch 47/100, Tr Loss: 0.0329, Tr Acc: 0.9897, Val Loss: 0.0353, Val Acc: 98.8400\n",
      "Epoch 48/100, Tr Loss: 0.0320, Tr Acc: 0.9897, Val Loss: 0.0357, Val Acc: 98.8900\n",
      "Epoch 49/100, Tr Loss: 0.0309, Tr Acc: 0.9898, Val Loss: 0.0322, Val Acc: 98.9400\n",
      "Epoch 50/100, Tr Loss: 0.0315, Tr Acc: 0.9895, Val Loss: 0.0336, Val Acc: 98.9000\n",
      "Epoch 51/100, Tr Loss: 0.0302, Tr Acc: 0.9905, Val Loss: 0.0350, Val Acc: 98.9000\n",
      "Epoch 52/100, Tr Loss: 0.0312, Tr Acc: 0.9902, Val Loss: 0.0328, Val Acc: 99.0300\n",
      "Epoch 53/100, Tr Loss: 0.0299, Tr Acc: 0.9905, Val Loss: 0.0357, Val Acc: 98.9200\n",
      "Epoch 54/100, Tr Loss: 0.0292, Tr Acc: 0.9907, Val Loss: 0.0330, Val Acc: 98.9900\n",
      "Epoch 55/100, Tr Loss: 0.0281, Tr Acc: 0.9908, Val Loss: 0.0361, Val Acc: 98.8500\n",
      "Epoch 56/100, Tr Loss: 0.0270, Tr Acc: 0.9916, Val Loss: 0.0331, Val Acc: 98.9000\n",
      "Epoch 57/100, Tr Loss: 0.0257, Tr Acc: 0.9920, Val Loss: 0.0340, Val Acc: 98.9100\n",
      "Epoch 58/100, Tr Loss: 0.0280, Tr Acc: 0.9909, Val Loss: 0.0325, Val Acc: 98.9600\n",
      "Epoch 59/100, Tr Loss: 0.0262, Tr Acc: 0.9918, Val Loss: 0.0305, Val Acc: 99.1200\n",
      "Epoch 60/100, Tr Loss: 0.0278, Tr Acc: 0.9910, Val Loss: 0.0366, Val Acc: 98.8800\n",
      "Epoch 61/100, Tr Loss: 0.0255, Tr Acc: 0.9919, Val Loss: 0.0331, Val Acc: 99.0000\n",
      "Epoch 62/100, Tr Loss: 0.0239, Tr Acc: 0.9925, Val Loss: 0.0356, Val Acc: 98.9800\n",
      "Epoch 63/100, Tr Loss: 0.0249, Tr Acc: 0.9923, Val Loss: 0.0318, Val Acc: 98.9900\n",
      "Epoch 64/100, Tr Loss: 0.0261, Tr Acc: 0.9916, Val Loss: 0.0319, Val Acc: 98.9600\n",
      "Epoch 65/100, Tr Loss: 0.0255, Tr Acc: 0.9920, Val Loss: 0.0329, Val Acc: 98.9800\n",
      "Epoch 66/100, Tr Loss: 0.0248, Tr Acc: 0.9921, Val Loss: 0.0284, Val Acc: 99.0600\n",
      "Epoch 67/100, Tr Loss: 0.0235, Tr Acc: 0.9925, Val Loss: 0.0300, Val Acc: 98.9600\n",
      "Epoch 68/100, Tr Loss: 0.0240, Tr Acc: 0.9923, Val Loss: 0.0339, Val Acc: 99.0000\n",
      "Epoch 69/100, Tr Loss: 0.0234, Tr Acc: 0.9923, Val Loss: 0.0320, Val Acc: 99.0700\n",
      "Epoch 70/100, Tr Loss: 0.0217, Tr Acc: 0.9928, Val Loss: 0.0303, Val Acc: 99.0600\n",
      "Epoch 71/100, Tr Loss: 0.0227, Tr Acc: 0.9924, Val Loss: 0.0324, Val Acc: 98.9500\n",
      "Epoch 72/100, Tr Loss: 0.0227, Tr Acc: 0.9927, Val Loss: 0.0321, Val Acc: 99.0100\n",
      "Epoch 73/100, Tr Loss: 0.0230, Tr Acc: 0.9926, Val Loss: 0.0355, Val Acc: 98.9900\n",
      "Epoch 74/100, Tr Loss: 0.0210, Tr Acc: 0.9931, Val Loss: 0.0336, Val Acc: 99.0400\n",
      "Epoch 75/100, Tr Loss: 0.0220, Tr Acc: 0.9930, Val Loss: 0.0309, Val Acc: 99.1100\n",
      "Epoch 76/100, Tr Loss: 0.0228, Tr Acc: 0.9930, Val Loss: 0.0318, Val Acc: 99.0800\n",
      "Epoch 77/100, Tr Loss: 0.0205, Tr Acc: 0.9930, Val Loss: 0.0348, Val Acc: 99.0200\n",
      "Epoch 78/100, Tr Loss: 0.0226, Tr Acc: 0.9925, Val Loss: 0.0328, Val Acc: 98.9200\n",
      "Epoch 79/100, Tr Loss: 0.0201, Tr Acc: 0.9933, Val Loss: 0.0319, Val Acc: 98.9300\n",
      "Epoch 80/100, Tr Loss: 0.0209, Tr Acc: 0.9932, Val Loss: 0.0317, Val Acc: 99.1000\n",
      "Epoch 81/100, Tr Loss: 0.0199, Tr Acc: 0.9936, Val Loss: 0.0294, Val Acc: 99.1300\n",
      "Epoch 82/100, Tr Loss: 0.0195, Tr Acc: 0.9933, Val Loss: 0.0332, Val Acc: 98.9400\n",
      "Epoch 83/100, Tr Loss: 0.0193, Tr Acc: 0.9937, Val Loss: 0.0320, Val Acc: 99.0000\n",
      "Epoch 84/100, Tr Loss: 0.0191, Tr Acc: 0.9939, Val Loss: 0.0300, Val Acc: 99.0800\n",
      "Epoch 85/100, Tr Loss: 0.0193, Tr Acc: 0.9938, Val Loss: 0.0311, Val Acc: 99.0300\n",
      "Epoch 86/100, Tr Loss: 0.0190, Tr Acc: 0.9937, Val Loss: 0.0313, Val Acc: 98.9900\n",
      "Epoch 87/100, Tr Loss: 0.0185, Tr Acc: 0.9940, Val Loss: 0.0309, Val Acc: 99.1500\n",
      "Epoch 88/100, Tr Loss: 0.0179, Tr Acc: 0.9943, Val Loss: 0.0296, Val Acc: 99.0600\n",
      "Epoch 89/100, Tr Loss: 0.0180, Tr Acc: 0.9941, Val Loss: 0.0292, Val Acc: 99.1500\n",
      "Epoch 90/100, Tr Loss: 0.0186, Tr Acc: 0.9936, Val Loss: 0.0308, Val Acc: 99.0300\n",
      "Epoch 91/100, Tr Loss: 0.0169, Tr Acc: 0.9944, Val Loss: 0.0321, Val Acc: 99.1200\n",
      "Epoch 92/100, Tr Loss: 0.0185, Tr Acc: 0.9939, Val Loss: 0.0306, Val Acc: 99.1400\n",
      "Epoch 93/100, Tr Loss: 0.0165, Tr Acc: 0.9949, Val Loss: 0.0337, Val Acc: 99.0100\n",
      "Epoch 94/100, Tr Loss: 0.0177, Tr Acc: 0.9942, Val Loss: 0.0316, Val Acc: 99.1100\n",
      "Epoch 95/100, Tr Loss: 0.0172, Tr Acc: 0.9944, Val Loss: 0.0311, Val Acc: 99.0700\n",
      "Epoch 96/100, Tr Loss: 0.0168, Tr Acc: 0.9944, Val Loss: 0.0294, Val Acc: 99.1400\n",
      "Epoch 97/100, Tr Loss: 0.0178, Tr Acc: 0.9942, Val Loss: 0.0297, Val Acc: 99.0500\n",
      "Epoch 98/100, Tr Loss: 0.0168, Tr Acc: 0.9945, Val Loss: 0.0296, Val Acc: 99.0000\n",
      "Epoch 99/100, Tr Loss: 0.0170, Tr Acc: 0.9945, Val Loss: 0.0311, Val Acc: 99.1300\n",
      "Epoch 100/100, Tr Loss: 0.0164, Tr Acc: 0.9948, Val Loss: 0.0326, Val Acc: 98.9600\n"
     ]
    }
   ],
   "source": [
    "# Training Loop\n",
    "\n",
    "num_epochs = 100\n",
    "train_loss = []\n",
    "valid_loss = []\n",
    "train_accuracy = []\n",
    "valid_accuracy = []\n",
    "\n",
    "for epoch in range(num_epochs):\n",
    "    iter_loss = 0.0\n",
    "    correct = 0\n",
    "    iterations = 0\n",
    "    \n",
    "    # Put the network in training mode\n",
    "    net.train()\n",
    "    \n",
    "    for i, (items, classes) in enumerate(mnist_train_loader):\n",
    "        \n",
    "        items = Variable(items)\n",
    "        classes = Variable(classes)\n",
    "        \n",
    "        # shift the data to GPU\n",
    "        if cuda.is_available():\n",
    "            items = items.cuda()\n",
    "            classes = classes.cuda()\n",
    "        \n",
    "        optimizer.zero_grad() # clear off gradients from any past operations\n",
    "        outputs = net(items)\n",
    "        loss = criterion(outputs, classes)\n",
    "        iter_loss += loss.data[0]\n",
    "        loss.backward()\n",
    "        optimizer.step()\n",
    "        \n",
    "        # Record the correct predictions in training data\n",
    "        _, predicted = torch.max(outputs.data, 1)\n",
    "        correct += (predicted==classes.data).sum()\n",
    "        iterations += 1\n",
    "        \n",
    "    train_loss.append(iter_loss/iterations)\n",
    "    train_accuracy.append(correct/len(mnist_train_loader.dataset))\n",
    "    \n",
    "    # Validation Set verification\n",
    "    loss = 0.0\n",
    "    correct = 0\n",
    "    iterations = 0\n",
    "    \n",
    "    # In eval mode backprop and dropouts are disabled\n",
    "    net.eval()\n",
    "    \n",
    "    for i, (items, classes) in enumerate(mnist_valid_loader):\n",
    "        \n",
    "        items = Variable(items)\n",
    "        classes = Variable(classes)\n",
    "        \n",
    "        # shift the data to GPU\n",
    "        if cuda.is_available():\n",
    "            items = items.cuda()\n",
    "            classes = classes.cuda()\n",
    "        \n",
    "        outputs = net(items)\n",
    "        loss += criterion(outputs, classes).data[0]\n",
    "        \n",
    "        # Record the correct predictions in training data\n",
    "        _, predicted = torch.max(outputs.data, 1)\n",
    "        correct += (predicted==classes.data).sum()\n",
    "        iterations += 1\n",
    "        \n",
    "    valid_loss.append(loss/iterations)\n",
    "    valid_accuracy.append((correct/len(mnist_valid_loader.dataset)*100))\n",
    "    \n",
    "    print('Epoch %d/%d, Tr Loss: %.4f, Tr Acc: %.4f, Val Loss: %.4f, Val Acc: %.4f'%(epoch + 1, num_epochs, train_loss[-1], \n",
    "                                                                    train_accuracy[-1], valid_loss[-1], valid_accuracy[-1]))"
   ]
  },
  {
   "cell_type": "code",
   "execution_count": 11,
   "metadata": {},
   "outputs": [
    {
     "data": {
      "image/png": "[encoded data removed]",
      "text/plain": [
       "<Figure size 720x576 with 1 Axes>"
      ]
     },
     "metadata": {},
     "output_type": "display_data"
    }
   ],
   "source": [
    "# Visualize the train and validation loss and accuracy\n",
    "f = plt.figure(figsize=(10,8))\n",
    "plt.plot(train_loss, label='training loss')\n",
    "plt.plot(valid_loss, label='validation loss')\n",
    "plt.legend()\n",
    "plt.show()"
   ]
  },
  {
   "cell_type": "code",
   "execution_count": 22,
   "metadata": {},
   "outputs": [
    {
     "data": {
      "image/png": "[encoded data removed]",
      "text/plain": [
       "<Figure size 720x576 with 1 Axes>"
      ]
     },
     "metadata": {},
     "output_type": "display_data"
    }
   ],
   "source": [
    "f = plt.figure(figsize=(10,8))\n",
    "plt.plot(train_accuracy, label='training accuracy')\n",
    "plt.plot(valid_accuracy, label='validation accuracy')\n",
    "plt.legend()\n",
    "plt.show()"
   ]
  },
  {
   "cell_type": "markdown",
   "metadata": {},
   "source": [
    "### Inferencing on a single record"
   ]
  },
  {
   "cell_type": "code",
   "execution_count": 25,
   "metadata": {},
   "outputs": [],
   "source": [
    "image_index = 23\n",
    "img = mnist_valid[image_index][0].resize_((1,1,28,28))\n",
    "\n",
    "img = Variable(img)\n",
    "label = mnist_valid[image_index][1]\n",
    "\n",
    "net.eval()\n",
    "\n",
    "if cuda.is_available():\n",
    "    img = img.cuda()\n",
    "    net = net.cuda()\n",
    "else:\n",
    "    img = img.cpu()\n",
    "    net = net.cpu()\n",
    "\n",
    "output = net(img)    "
   ]
  },
  {
   "cell_type": "code",
   "execution_count": 26,
   "metadata": {},
   "outputs": [
    {
     "data": {
      "text/plain": [
       "\n",
       "\n",
       "Columns 0 to 7 \n",
       " -9.1178 -19.3321  -6.7768  15.3068  -7.2763  36.6736  -1.2640 -19.2661\n",
       "\n",
       "Columns 8 to 9 \n",
       " -6.9253  15.7650\n",
       "[torch.cuda.FloatTensor of size 1x10 (GPU 0)]"
      ]
     },
     "execution_count": 26,
     "metadata": {},
     "output_type": "execute_result"
    }
   ],
   "source": [
    "output.data"
   ]
  },
  {
   "cell_type": "code",
   "execution_count": 27,
   "metadata": {},
   "outputs": [
    {
     "name": "stdout",
     "output_type": "stream",
     "text": [
      "prediction is: \n",
      " 5\n",
      "[torch.cuda.LongTensor of size 1 (GPU 0)]\n",
      "\n"
     ]
    }
   ],
   "source": [
    "_, predicted = torch.max(output.data, 1)\n",
    "print('prediction is:', predicted)"
   ]
  },
  {
   "cell_type": "code",
   "execution_count": 28,
   "metadata": {},
   "outputs": [
    {
     "data": {
      "text/plain": [
       "5"
      ]
     },
     "execution_count": 28,
     "metadata": {},
     "output_type": "execute_result"
    }
   ],
   "source": [
    "label"
   ]
  },
  {
   "cell_type": "code",
   "execution_count": 29,
   "metadata": {},
   "outputs": [],
   "source": [
    "# Regularization can be applied by using data augmentation and test time augmentation by adding random noise to images"
   ]
  },
  {
   "cell_type": "markdown",
   "metadata": {},
   "source": [
    "Award winning models"
   ]
  },
  {
   "cell_type": "markdown",
   "metadata": {},
   "source": [
    "https://adeshpande3.github.io/The-9-Deep-Learning-Papers-You-Need-To-Know-About.html"
   ]
  },
  {
   "cell_type": "code",
   "execution_count": null,
   "metadata": {},
   "outputs": [],
   "source": []
  }
 ],
 "metadata": {
  "kernelspec": {
   "display_name": "Python 3",
   "language": "python",
   "name": "python3"
  },
  "language_info": {
   "codemirror_mode": {
    "name": "ipython",
    "version": 3
   },
   "file_extension": ".py",
   "mimetype": "text/x-python",
   "name": "python",
   "nbconvert_exporter": "python",
   "pygments_lexer": "ipython3",
   "version": "3.6.6"
  }
 },
 "nbformat": 4,
 "nbformat_minor": 2
}
