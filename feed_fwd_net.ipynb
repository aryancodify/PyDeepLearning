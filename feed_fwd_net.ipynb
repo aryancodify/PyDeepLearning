{
 "cells": [
  {
   "cell_type": "code",
   "execution_count": null,
   "metadata": {},
   "outputs": [],
   "source": [
    "import torch\n",
    "import torch.nn as nn\n",
    "import matplotlib.pyplot as plt\n",
    "from torch.autograd import Variable\n",
    "import numpy as np\n",
    "import pandas as pd"
   ]
  },
  {
   "cell_type": "code",
   "execution_count": null,
   "metadata": {},
   "outputs": [],
   "source": [
    "from torch.utils.data.dataset import Dataset\n",
    "\n",
    "\n",
    "label_idx = {'Iris-setosa': 0, 'Iris-versicolor': 1, 'Iris-virginica': 2}\n",
    "\n",
    "\n",
    "class IrisDataset(Dataset):\n",
    "\n",
    "    def __init__(self, data):\n",
    "        self.data = data\n",
    "           \n",
    "    def __getitem__(self, index):\n",
    "        item = self.data.iloc[index].values\n",
    "        return (item[0:4].astype(np.float32), item[4].astype(np.int))\n",
    "\n",
    "    def __len__(self):\n",
    "        return self.data.shape[0]\n",
    "\n",
    "\n",
    "def get_datasets(iris_file, train_ratio=0.80):\n",
    "\n",
    "    labels = {'class': label_idx}\n",
    "    data = pd.read_csv(iris_file)\n",
    "    data.replace(labels, inplace=True)\n",
    "\n",
    "    train_df = data.sample(frac=train_ratio, random_state=3)\n",
    "    test_df = data.loc[~data.index.isin(train_df.index), :]\n",
    "\n",
    "    return IrisDataset(train_df), IrisDataset(test_df)"
   ]
  },
  {
   "cell_type": "code",
   "execution_count": null,
   "metadata": {},
   "outputs": [],
   "source": [
    "!head data/iris.data.txt"
   ]
  },
  {
   "cell_type": "markdown",
   "metadata": {},
   "source": [
    "### Fully Connected Feed Fwd Net"
   ]
  },
  {
   "cell_type": "code",
   "execution_count": null,
   "metadata": {},
   "outputs": [],
   "source": [
    "class IrisNet(nn.Module):\n",
    "    \n",
    "    def __init__(self, input_size, hidden1_size, hidden2_size, num_classes):\n",
    "        super(IrisNet, self).__init__()\n",
    "        self.fc1 = nn.Linear(input_size, hidden1_size)\n",
    "        self.relu1 = nn.ReLU()\n",
    "        self.fc2 = nn.Linear(hidden1_size, hidden2_size)\n",
    "        self.relu2 = nn.ReLU()\n",
    "        self.fc3 = nn.Linear(hidden2_size, num_classes)\n",
    "    \n",
    "    def forward(self, x):\n",
    "        out = self.fc1(x)\n",
    "        out = self.relu1(out)\n",
    "        out = self.fc2(out)\n",
    "        out = self.relu2(out)\n",
    "        out = self.fc3(out)\n",
    "        return out"
   ]
  },
  {
   "cell_type": "code",
   "execution_count": null,
   "metadata": {},
   "outputs": [],
   "source": [
    "model = IrisNet(4, 100, 50, 3).cuda()\n",
    "print(model)"
   ]
  },
  {
   "cell_type": "markdown",
   "metadata": {},
   "source": [
    "### Creating the data loader"
   ]
  },
  {
   "cell_type": "code",
   "execution_count": null,
   "metadata": {},
   "outputs": [],
   "source": [
    "batch_size = 60\n",
    "iris_data_file = 'data/iris.data.txt'"
   ]
  },
  {
   "cell_type": "code",
   "execution_count": null,
   "metadata": {},
   "outputs": [],
   "source": [
    "# Get the datasets\n",
    "train_ds, test_ds = get_datasets(iris_data_file)\n",
    "\n",
    "print(\"training set length\", len(train_ds))\n",
    "print(\"test set length\", len(test_ds))\n",
    "\n",
    "train_loader = torch.utils.data.DataLoader(dataset = train_ds, batch_size = batch_size, shuffle = True)\n",
    "test_loader = torch.utils.data.DataLoader(dataset = test_ds, batch_size = batch_size, shuffle = True)"
   ]
  },
  {
   "cell_type": "code",
   "execution_count": null,
   "metadata": {},
   "outputs": [],
   "source": [
    "criterion = nn.CrossEntropyLoss()\n",
    "learning_rate = 0.001\n",
    "\n",
    "optimizer = torch.optim.SGD(model.parameters(), lr = learning_rate, nesterov=True, momentum=0.9, dampening=0)"
   ]
  },
  {
   "cell_type": "markdown",
   "metadata": {},
   "source": [
    "## Training Loop"
   ]
  },
  {
   "cell_type": "code",
   "execution_count": null,
   "metadata": {},
   "outputs": [],
   "source": [
    "# 2 loops outer loop executes the epochs. Inner loop executes the iterations per epoch.\n",
    "num_epochs = 500\n",
    "train_loss = []\n",
    "test_loss = []\n",
    "train_accuracy = []\n",
    "test_accuracy = []\n",
    "\n",
    "for epoch in range(num_epochs):\n",
    "    \n",
    "    train_correct = 0\n",
    "    train_total = 0\n",
    "    \n",
    "    for i, (items, classes) in enumerate(train_loader):\n",
    "        # Each batch is a tuple. First element is a float tensor containing all the dependent variables for each batch\n",
    "        # Second element of tuple\n",
    "        # Convert torch tensor to variable\n",
    "        items = Variable(items.cuda())\n",
    "        classes = Variable(classes.cuda())\n",
    "        model.train()\n",
    "        # Clear off gradients from past operations\n",
    "        optimizer.zero_grad()\n",
    "        # Do the forward pass\n",
    "        outputs = model(items)\n",
    "        # Calculate the loss\n",
    "        loss = criterion(outputs, classes)\n",
    "        # Calculate the gradients with the help of back propagation\n",
    "        loss.backward()\n",
    "        # Ask the opitmizer to update the parameters on the basis of the gradients\n",
    "        optimizer.step()\n",
    "        \n",
    "        # Record the correct predictions for training data\n",
    "        train_total += classes.size(0)\n",
    "        _, predicted = torch.max(outputs.data, 1)\n",
    "        train_correct += (predicted == classes.data).sum()\n",
    "        print('Epoch %d/%d, Iteration %d/%d, Loss: %.4f'%(epoch+1, num_epochs, i+1, len(train_ds)//batch_size, loss.data[0]))\n",
    "    \n",
    "    model.eval()\n",
    "    train_loss.append(loss.data[0])\n",
    "    \n",
    "    #Record the training accuracy\n",
    "    train_accuracy.append(100*train_correct/train_total)\n",
    "    \n",
    "    #Check on the test set\n",
    "    test_items = torch.FloatTensor(test_ds.data.values[:,0:4])\n",
    "    test_classes = torch.LongTensor(test_ds.data.values[:,4])\n",
    "    outputs = model(Variable(test_items.cuda()))\n",
    "    loss = criterion(outputs, Variable(test_classes.cuda()))\n",
    "    test_loss.append(loss.data[0])\n",
    "    \n",
    "    #Record the testing accuracy\n",
    "    _, predicted = torch.max(outputs.data,1)\n",
    "    total = test_classes.size(0)\n",
    "    correct = (predicted==test_classes.cuda()).sum()\n",
    "    test_accuracy.append((100*correct/total))"
   ]
  },
  {
   "cell_type": "markdown",
   "metadata": {},
   "source": [
    "Loss vs Iterations Plot"
   ]
  },
  {
   "cell_type": "code",
   "execution_count": null,
   "metadata": {},
   "outputs": [],
   "source": [
    "fig = plt.figure(figsize=(12,8))\n",
    "plt.plot(train_loss, label = 'train_loss')\n",
    "plt.plot(test_loss, label = 'test_loss')\n",
    "plt.title(\"Train and test loss\")\n",
    "plt.legend()\n",
    "plt.show()"
   ]
  },
  {
   "cell_type": "markdown",
   "metadata": {},
   "source": [
    "Plotting train and test set accuracy"
   ]
  },
  {
   "cell_type": "code",
   "execution_count": null,
   "metadata": {},
   "outputs": [],
   "source": [
    "fig = plt.figure(figsize=(12,8))\n",
    "plt.plot(train_accuracy, label = 'train_accuracy')\n",
    "plt.plot(test_accuracy, label = 'test_accuracy')\n",
    "plt.title(\"Train and test accuracy\")\n",
    "plt.legend()\n",
    "plt.show()"
   ]
  },
  {
   "cell_type": "markdown",
   "metadata": {},
   "source": [
    "Persist model to disk"
   ]
  },
  {
   "cell_type": "code",
   "execution_count": null,
   "metadata": {},
   "outputs": [],
   "source": [
    "torch.save(model.state_dict(),\"./fwd_net.pth\")"
   ]
  },
  {
   "cell_type": "markdown",
   "metadata": {},
   "source": [
    "Load the model"
   ]
  },
  {
   "cell_type": "code",
   "execution_count": null,
   "metadata": {},
   "outputs": [],
   "source": [
    "net = IrisNet(4, 100, 50, 3)\n",
    "net.load_state_dict(torch.load(\"./fwd_net.pth\"))\n",
    "net.eval()"
   ]
  },
  {
   "cell_type": "code",
   "execution_count": null,
   "metadata": {},
   "outputs": [],
   "source": [
    "item = [[5.1,3.5,1.4,0.2]]\n",
    "expected_class = 0 # Iris-Setosa"
   ]
  },
  {
   "cell_type": "code",
   "execution_count": null,
   "metadata": {},
   "outputs": [],
   "source": [
    "output = net(Variable(torch.FloatTensor(item)))"
   ]
  },
  {
   "cell_type": "code",
   "execution_count": null,
   "metadata": {},
   "outputs": [],
   "source": [
    "_, predicted_class = torch.max(output.data, 1)\n",
    "print(predicted_class.numpy())\n",
    "print('Predicted class:', predicted_class.numpy()[0])\n",
    "print('Expected class:', expected_class)"
   ]
  },
  {
   "cell_type": "code",
   "execution_count": null,
   "metadata": {},
   "outputs": [],
   "source": []
  }
 ],
 "metadata": {
  "kernelspec": {
   "display_name": "Python 3",
   "language": "python",
   "name": "python3"
  },
  "language_info": {
   "codemirror_mode": {
    "name": "ipython",
    "version": 3
   },
   "file_extension": ".py",
   "mimetype": "text/x-python",
   "name": "python",
   "nbconvert_exporter": "python",
   "pygments_lexer": "ipython3",
   "version": "3.6.6"
  }
 },
 "nbformat": 4,
 "nbformat_minor": 2
}
